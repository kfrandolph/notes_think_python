{
 "cells": [
  {
   "cell_type": "markdown",
   "metadata": {},
   "source": [
    "# Chapter 1: The Way of the Program"
   ]
  },
  {
   "cell_type": "markdown",
   "metadata": {},
   "source": [
    "## Notes ##"
   ]
  },
  {
   "cell_type": "markdown",
   "metadata": {},
   "source": [
    "### The Python Programming Language\n",
    "- Python is a high-level language\n",
    "    - Other high level: Java, Perl, C, C++\n",
    "    - Contrast w/ Low-Level: Machine and Assembly languages\n",
    "- High level languages typically easier to program in and are portable (can run on other systems/architectures w/ little modification)\n",
    "- High level program must be \"translated\" into lower level code for computers to actual run them\n",
    "- Translation can be done in two ways:\n",
    "    1. Interpreters: alternates reading code and running it (w/ \"translation\")\n",
    "    2. Compilers: reads and translates code completely before running it\n",
    "        - High level code == source code\n",
    "        - Compiled code == object code or executable\n",
    "- Python is an ** interpreted ** language"
   ]
  },
  {
   "cell_type": "markdown",
   "metadata": {},
   "source": [
    "## What is a Program \n",
    "- A **Program** is a sequence of instructions that specific some computational behavior (mathematical or symbolic)\n",
    "- Basic Instructions:\n",
    "    - inputs\n",
    "    - outputs\n",
    "    - math\n",
    "    - conditional execution\n",
    "    - repetition\n",
    "\n",
    "## What is a Debugging?\n",
    "- Programming errors are called bugs (joke name after moth found in mainframe)\n",
    "- \"Debugging\" is then the act of removing bugs or fixing program errors\n",
    "\n",
    "### Types of Errors\n",
    "- **Syntax Errors:** instructions have syntactical error in them\n",
    "- **Runtime Errors:** errors that occur only when running also called _exceptions_\n",
    "- **Semantic Errors:** errors that don't generate any kind of error when written or run but do not behave as intended\n",
    "### Experimental Debugging\n",
    "- Debugging often involves detective work\n",
    "- Modify and isolate parts of code to figure out whats wrong\n",
    "- Another method is to write test code to validate logic with toy data, then expand to larger program"
   ]
  },
  {
   "cell_type": "markdown",
   "metadata": {},
   "source": [
    "## Exercises"
   ]
  },
  {
   "cell_type": "markdown",
   "metadata": {},
   "source": [
    "### 1.1 Write a sentence with valid structure and invalid tokens. Write a sentence with valid token but invalid structure\n",
    "- Sentence with invalid tokens: \"Kyle is friendly and has a 183940 x0b03\"\n",
    "- Sentence with valid tokens but invalid structure: \"Kyle friendly, has. A laugh; good.\"\n",
    "\n",
    "### 1.2 Use a browser to go to http://python.org\n",
    "### 1.3 Start the Python interpreter and help()"
   ]
  },
  {
   "cell_type": "code",
   "execution_count": 3,
   "metadata": {},
   "outputs": [
    {
     "name": "stdout",
     "output_type": "stream",
     "text": [
      "\n",
      "Welcome to Python 3.5's help utility!\n",
      "\n",
      "If this is your first time using Python, you should definitely check out\n",
      "the tutorial on the Internet at http://docs.python.org/3.5/tutorial/.\n",
      "\n",
      "Enter the name of any module, keyword, or topic to get help on writing\n",
      "Python programs and using Python modules.  To quit this help utility and\n",
      "return to the interpreter, just type \"quit\".\n",
      "\n",
      "To get a list of available modules, keywords, symbols, or topics, type\n",
      "\"modules\", \"keywords\", \"symbols\", or \"topics\".  Each module also comes\n",
      "with a one-line summary of what it does; to list the modules whose name\n",
      "or summary contain a given string such as \"spam\", type \"modules spam\".\n",
      "\n",
      "\n",
      "You are now leaving help and returning to the Python interpreter.\n",
      "If you want to ask for help on a particular object directly from the\n",
      "interpreter, you can type \"help(object)\".  Executing \"help('string')\"\n",
      "has the same effect as typing a particular string at the help> prompt.\n"
     ]
    }
   ],
   "source": [
    "help()"
   ]
  },
  {
   "cell_type": "markdown",
   "metadata": {},
   "source": [
    "### 1.4 Use Python interpeter as a calculator to calculate average speed in mph if you run 10k in 43min and 30s"
   ]
  },
  {
   "cell_type": "code",
   "execution_count": 6,
   "metadata": {},
   "outputs": [
    {
     "name": "stdout",
     "output_type": "stream",
     "text": [
      "Avg speed: 8.567144998929106 mph\n"
     ]
    }
   ],
   "source": [
    "race = 10 # km\n",
    "conv = 1.61 # km in mi\n",
    "duration = 43.5 # min\n",
    "\n",
    "speed = (race/conv) / (duration/60)\n",
    "print(\"Avg speed: {} mph\".format(speed))"
   ]
  }
 ],
 "metadata": {
  "kernelspec": {
   "display_name": "Python [default]",
   "language": "python",
   "name": "python3"
  },
  "language_info": {
   "codemirror_mode": {
    "name": "ipython",
    "version": 3
   },
   "file_extension": ".py",
   "mimetype": "text/x-python",
   "name": "python",
   "nbconvert_exporter": "python",
   "pygments_lexer": "ipython3",
   "version": "3.5.2"
  }
 },
 "nbformat": 4,
 "nbformat_minor": 2
}
