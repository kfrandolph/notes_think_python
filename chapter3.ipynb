{
 "cells": [
  {
   "cell_type": "markdown",
   "metadata": {},
   "source": [
    "# Chapter 3: Functions\n",
    "## Notes"
   ]
  },
  {
   "cell_type": "markdown",
   "metadata": {},
   "source": [
    "## Function Calls\n",
    "- A ** Function ** is a named seequence of statements that performs a computation\n",
    "- When you define a function, you specify the name and the sequence of statements, later you can \"call\" the function\n",
    "- It is common to say a function \"takes\" an argument and \"returns\" a result. The result is the **return value**\n",
    "\n",
    "## Type Converions Functions\n",
    "- Python provides built-in functions to convert values from one type to another\n",
    "- `int()`: converts a value to an integer\n",
    "- `float()`: converts integers and strings to floating-point numbers\n",
    "- `str()`: converts it's argument to a string\n",
    "\n",
    "## Math Functions\n",
    "- Python has a math **module** (a file that contains a collection of related functions) that contains most of the familiar mathematical functions. \n",
    "    - `import math`: contains functions and constants such as `math.log` and `math.pi` for example\n",
    "    \n",
    "## Composition\n",
    "- One of the most useful features of programming languages is their ability to take small building blocks and compose them. \n",
    "- Almost anywhereyou can you can put a value, you can put an arbitrary expression (handle complexity with levels of abstraction)\n",
    "\n",
    "## Making New Functions\n",
    "- You can use a **function definition** to create a new function and define the sequence of statements that will be executed"
   ]
  },
  {
   "cell_type": "markdown",
   "metadata": {},
   "source": [
    "#### Define a function:"
   ]
  },
  {
   "cell_type": "code",
   "execution_count": 4,
   "metadata": {},
   "outputs": [],
   "source": [
    "def print_lyrics():\n",
    "    print(\"He's a lumberjack and he's okay\")\n",
    "    print(\"I sleep all night and I work all day\")"
   ]
  },
  {
   "cell_type": "markdown",
   "metadata": {},
   "source": [
    "**Note:** the empty parentheses, means that the function requires no argument\n"
   ]
  },
  {
   "cell_type": "markdown",
   "metadata": {},
   "source": [
    "#### Call the function:"
   ]
  },
  {
   "cell_type": "code",
   "execution_count": 5,
   "metadata": {},
   "outputs": [
    {
     "name": "stdout",
     "output_type": "stream",
     "text": [
      "He's a lumberjack and he's okay\n",
      "I sleep all night and I work all day\n"
     ]
    }
   ],
   "source": [
    "print_lyrics()"
   ]
  },
  {
   "cell_type": "markdown",
   "metadata": {},
   "source": [
    "#### Call the function from another function"
   ]
  },
  {
   "cell_type": "code",
   "execution_count": 8,
   "metadata": {},
   "outputs": [
    {
     "name": "stdout",
     "output_type": "stream",
     "text": [
      "He's a lumberjack and he's okay\n",
      "I sleep all night and I work all day\n",
      "He's a lumberjack and he's okay\n",
      "I sleep all night and I work all day\n"
     ]
    }
   ],
   "source": [
    "# define\n",
    "def repeat_lyrics():\n",
    "    print_lyrics()\n",
    "    print_lyrics()\n",
    "# call the new function that calls another function\n",
    "repeat_lyrics()"
   ]
  },
  {
   "cell_type": "markdown",
   "metadata": {},
   "source": [
    "## Flow of Execution\n",
    "- In order to ensure that a function is defined before it's first use you have to know the **flow of execution** or the order in which statements are executed\n",
    "- Execution _always_ begins at the first statement of the program. Statements are executed one at a time, in order, from top to bottom\n",
    "    - Function definitions do not alter the flow of execution but statements inside function definitions won't execute until the parent function is called\n",
    "    \n",
    "## Parameters and Arguments\n",
    "- Some functions can require **arguments**, or values that are passed into the function\n",
    "- Inside the function the arguments are assigned to parameters which can be combosed into larger chunks of computation\n",
    "- The name of the variable we pass as an argument has nothing to do with the name of the parameter\n",
    "\n",
    "## Variables and Parameters are Local\n",
    "- Variables created inside functions are **local** meaning it only exists within the function\n",
    "- Parameters are also local and can't be accessed outside the function definition\n",
    "\n",
    "## Fruitful Functions and Void Functions\n",
    "- Some functions yield results. The author considers these **fruitful** functions\n",
    "- Other functions perform an action but don't return a value. We can call these **void functions**\n",
    "- Assigning the result of a void function call with result in the variable having a value of **`None`**, which is a special Python type\n",
    "\n",
    "## Why Functions?\n",
    "- Create logical groupings of statements for ease of debugging and reading\n",
    "- Can make programs smaller by eliminating repetitive code\n",
    "- Dividing a long program into functions allows you to debug the parts one at time and then assemble\n",
    "- Well-designed functions are often useful for many programs and can be reused\n",
    "\n",
    "## Importing with `from`\n",
    "- Import with `import module` allows you to access all functions and constants with dot notation (`math.pi, math.cos`)\n",
    "- Importing specific functions and constants using `from module import function` to use the function direction (`pi, cos()`)\n",
    "- **Watch out** for always importing everything from modules as there could be namespace conflic\n"
   ]
  },
  {
   "cell_type": "markdown",
   "metadata": {},
   "source": [
    "## Exercises:\n",
    "#### 3.1 Move the last line of our program and see what error message occurs"
   ]
  },
  {
   "cell_type": "code",
   "execution_count": 11,
   "metadata": {},
   "outputs": [
    {
     "ename": "NameError",
     "evalue": "name 'repeat_lyrics' is not defined",
     "output_type": "error",
     "traceback": [
      "\u001b[0;31m---------------------------------------------------------------------------\u001b[0m",
      "\u001b[0;31mNameError\u001b[0m                                 Traceback (most recent call last)",
      "\u001b[0;32m<ipython-input-11-48a8345a8ec7>\u001b[0m in \u001b[0;36m<module>\u001b[0;34m()\u001b[0m\n\u001b[0;32m----> 1\u001b[0;31m \u001b[0mrepeat_lyrics\u001b[0m\u001b[0;34m(\u001b[0m\u001b[0;34m)\u001b[0m\u001b[0;34m\u001b[0m\u001b[0m\n\u001b[0m\u001b[1;32m      2\u001b[0m \u001b[0;34m\u001b[0m\u001b[0m\n\u001b[1;32m      3\u001b[0m \u001b[0;32mdef\u001b[0m \u001b[0mprint_lyrics\u001b[0m\u001b[0;34m(\u001b[0m\u001b[0;34m)\u001b[0m\u001b[0;34m:\u001b[0m\u001b[0;34m\u001b[0m\u001b[0m\n\u001b[1;32m      4\u001b[0m     \u001b[0mprint\u001b[0m\u001b[0;34m(\u001b[0m\u001b[0;34m\"He's a lumberjack and he's okay\"\u001b[0m\u001b[0;34m)\u001b[0m\u001b[0;34m\u001b[0m\u001b[0m\n\u001b[1;32m      5\u001b[0m     \u001b[0mprint\u001b[0m\u001b[0;34m(\u001b[0m\u001b[0;34m\"I sleep all night and I work all day\"\u001b[0m\u001b[0;34m)\u001b[0m\u001b[0;34m\u001b[0m\u001b[0m\n",
      "\u001b[0;31mNameError\u001b[0m: name 'repeat_lyrics' is not defined"
     ]
    }
   ],
   "source": [
    "repeat_lyrics()\n",
    "\n",
    "def print_lyrics():\n",
    "    print(\"He's a lumberjack and he's okay\")\n",
    "    print(\"I sleep all night and I work all day\")\n",
    "    \n",
    "def repeat_lyrics():\n",
    "    print_lyrics()\n",
    "    print_lyrics()"
   ]
  },
  {
   "cell_type": "markdown",
   "metadata": {},
   "source": [
    "#### 3.2 Move the function call back to the bottom and move the definition of print_lyrics after the definition of repeat_lyrics. What happens?"
   ]
  },
  {
   "cell_type": "code",
   "execution_count": 21,
   "metadata": {},
   "outputs": [
    {
     "name": "stdout",
     "output_type": "stream",
     "text": [
      "He's a lumberjack and he's okay\n",
      "I sleep all night and I work all day\n",
      "He's a lumberjack and he's okay\n",
      "I sleep all night and I work all day\n"
     ]
    }
   ],
   "source": [
    "def repeat_lyrics():\n",
    "    print_lyrics()\n",
    "    print_lyrics()\n",
    "\n",
    "def print_lyrics():\n",
    "    print(\"He's a lumberjack and he's okay\")\n",
    "    print(\"I sleep all night and I work all day\")\n",
    "    \n",
    "repeat_lyrics()\n",
    "\n",
    "## program works fine. functions are defined prior to call. "
   ]
  },
  {
   "cell_type": "markdown",
   "metadata": {},
   "source": [
    "3.3 Write a function named `right_justify` that takes a string named `s` as a parameter and prints the string with enough leading space so that the last letter of the string is column 70 of the display"
   ]
  },
  {
   "cell_type": "code",
   "execution_count": 28,
   "metadata": {},
   "outputs": [
    {
     "data": {
      "text/plain": [
       "'                                                                  Kyle'"
      ]
     },
     "execution_count": 28,
     "metadata": {},
     "output_type": "execute_result"
    }
   ],
   "source": [
    "def right_justify(s):\n",
    "    return \" \" * (70-len(s)) + s\n",
    "right_justify(\"Kyle\")"
   ]
  },
  {
   "cell_type": "markdown",
   "metadata": {},
   "source": [
    "#### 3.4 Type example script and modify it"
   ]
  },
  {
   "cell_type": "code",
   "execution_count": 49,
   "metadata": {},
   "outputs": [
    {
     "name": "stdout",
     "output_type": "stream",
     "text": [
      "spam\n",
      "spam\n",
      "spamspam\n",
      "spamspam\n"
     ]
    }
   ],
   "source": [
    "# 3.4.1 \n",
    "def do_twice(f):\n",
    "    f()\n",
    "    f()\n",
    "\n",
    "def print_spam():\n",
    "    print('spam')\n",
    "\n",
    "do_twice(print_spam)\n",
    "# 3.4.1 \n",
    "def do_twice(f,arg):\n",
    "    f(arg)\n",
    "    f(arg)\n",
    "\n",
    "# 3.4.3\n",
    "def print_twice(s):\n",
    "    print(2*s)\n",
    "\n",
    "# 3.4.4\n",
    "do_twice(print_twice,\"spam\")\n",
    "\n",
    "# 3.4.5"
   ]
  },
  {
   "cell_type": "code",
   "execution_count": 42,
   "metadata": {},
   "outputs": [],
   "source": [
    "#### 3.5 \n",
    "def do_four(f,val):\n",
    "    do_twice(f,val)\n",
    "    do_twice(f,val)"
   ]
  },
  {
   "cell_type": "code",
   "execution_count": 43,
   "metadata": {},
   "outputs": [
    {
     "name": "stdout",
     "output_type": "stream",
     "text": [
      "KyleKyle\n",
      "KyleKyle\n",
      "KyleKyle\n",
      "KyleKyle\n"
     ]
    }
   ],
   "source": [
    "do_four(print_twice,\"Kyle\")"
   ]
  },
  {
   "cell_type": "markdown",
   "metadata": {},
   "source": [
    "#### 3.5 Draw a grid"
   ]
  },
  {
   "cell_type": "code",
   "execution_count": 58,
   "metadata": {},
   "outputs": [
    {
     "name": "stdout",
     "output_type": "stream",
     "text": [
      "+ ----- + ----- +\n",
      "|       |       |\n",
      "|       |       |\n",
      "|       |       |\n",
      "|       |       |\n",
      "+ ----- + ----- +\n",
      "|       |       |\n",
      "|       |       |\n",
      "|       |       |\n",
      "|       |       |\n",
      "+ ----- + ----- +\n"
     ]
    }
   ],
   "source": [
    "# 3.5.1\n",
    "def do_twice(f):\n",
    "    f()\n",
    "    f()\n",
    "\n",
    "def do_four(f):\n",
    "    do_twice(f)\n",
    "    do_twice(f)\n",
    "    \n",
    "def draw_beam():\n",
    "    print('+',5 * \"-\", \"+\", 5 * \"-\", \"+\" )\n",
    "\n",
    "def draw_post():\n",
    "    print(\"|\",5*\" \",\"|\",5*\" \",\"|\")\n",
    "    \n",
    "def main():\n",
    "    draw_beam()\n",
    "    do_four(draw_post)\n",
    "    draw_beam()\n",
    "    do_four(draw_post)\n",
    "    draw_beam()\n",
    "\n",
    "main()"
   ]
  },
  {
   "cell_type": "code",
   "execution_count": 104,
   "metadata": {},
   "outputs": [
    {
     "name": "stdout",
     "output_type": "stream",
     "text": [
      "+ -----\n"
     ]
    },
    {
     "ename": "TypeError",
     "evalue": "do_four() got an unexpected keyword argument 'end'",
     "output_type": "error",
     "traceback": [
      "\u001b[0;31m---------------------------------------------------------------------------\u001b[0m",
      "\u001b[0;31mTypeError\u001b[0m                                 Traceback (most recent call last)",
      "\u001b[0;32m<ipython-input-104-c1729f26928e>\u001b[0m in \u001b[0;36m<module>\u001b[0;34m()\u001b[0m\n\u001b[1;32m     46\u001b[0m     \u001b[0mdraw_beam\u001b[0m\u001b[0;34m(\u001b[0m\u001b[0;34m)\u001b[0m\u001b[0;34m\u001b[0m\u001b[0m\n\u001b[1;32m     47\u001b[0m \u001b[0;34m\u001b[0m\u001b[0m\n\u001b[0;32m---> 48\u001b[0;31m \u001b[0mmake_cell\u001b[0m\u001b[0;34m(\u001b[0m\u001b[0;34m)\u001b[0m\u001b[0;34m\u001b[0m\u001b[0m\n\u001b[0m",
      "\u001b[0;32m<ipython-input-104-c1729f26928e>\u001b[0m in \u001b[0;36mmake_cell\u001b[0;34m(length)\u001b[0m\n\u001b[1;32m     22\u001b[0m \u001b[0;32mdef\u001b[0m \u001b[0mmake_cell\u001b[0m\u001b[0;34m(\u001b[0m\u001b[0mlength\u001b[0m\u001b[0;34m=\u001b[0m\u001b[0;36m5\u001b[0m\u001b[0;34m)\u001b[0m\u001b[0;34m:\u001b[0m\u001b[0;34m\u001b[0m\u001b[0m\n\u001b[1;32m     23\u001b[0m     \u001b[0mprint\u001b[0m\u001b[0;34m(\u001b[0m\u001b[0;34m\"+\"\u001b[0m\u001b[0;34m,\u001b[0m\u001b[0mlength\u001b[0m \u001b[0;34m*\u001b[0m \u001b[0;34m\"-\"\u001b[0m\u001b[0;34m)\u001b[0m\u001b[0;34m\u001b[0m\u001b[0m\n\u001b[0;32m---> 24\u001b[0;31m     \u001b[0mdo_four\u001b[0m\u001b[0;34m(\u001b[0m\u001b[0mdo_four\u001b[0m\u001b[0;34m(\u001b[0m\u001b[0mdraw_post\u001b[0m\u001b[0;34m,\u001b[0m\u001b[0mend\u001b[0m\u001b[0;34m=\u001b[0m\u001b[0;34m\" \"\u001b[0m\u001b[0;34m)\u001b[0m\u001b[0;34m)\u001b[0m\u001b[0;34m\u001b[0m\u001b[0m\n\u001b[0m\u001b[1;32m     25\u001b[0m     \u001b[0mprint\u001b[0m\u001b[0;34m(\u001b[0m\u001b[0;34m\"|\"\u001b[0m\u001b[0;34m)\u001b[0m\u001b[0;34m\u001b[0m\u001b[0m\n\u001b[1;32m     26\u001b[0m     \u001b[0mdo_four\u001b[0m\u001b[0;34m(\u001b[0m\u001b[0mdraw_post\u001b[0m\u001b[0;34m)\u001b[0m\u001b[0;34m\u001b[0m\u001b[0m\n",
      "\u001b[0;31mTypeError\u001b[0m: do_four() got an unexpected keyword argument 'end'"
     ]
    }
   ],
   "source": [
    "# 3.5.2 Draw a grid that is four rows and four columns\n",
    "# 3.5.1 I think this breaks w/ Python2\n",
    "def do_twice(f,args=None):\n",
    "    f(args),\n",
    "    f(args),\n",
    "\n",
    "def do_four(f,args=None):\n",
    "    do_twice(f,args),\n",
    "    do_twice(f,args),\n",
    "    \n",
    "def draw_beam(length=5):\n",
    "    print('+', length * \"-\",end=\" \")\n",
    "\n",
    "\n",
    "def draw_post(spacing=5,end=\" \"):\n",
    "    print(\"|\", spacing * \" \", end=end)\n",
    "\n",
    "    \n",
    "    \n",
    "\n",
    "    \n",
    "def make_cell(length=5):\n",
    "    print(\"+\",length * \"-\")\n",
    "    do_four(do_four(draw_post,end=\" \"))\n",
    "    print(\"|\")\n",
    "    do_four(draw_post)\n",
    "    \n",
    "    \n",
    "    \n",
    "def four_by_four():\n",
    "    do_four(draw_beam)\n",
    "    print(\"+\")\n",
    "    do_four(draw_post)\n",
    "    print(\"|\")\n",
    "    do_four(draw_post)\n",
    "    print(\"|\")\n",
    "    do_four(draw_post)\n",
    "    print(\"|\")\n",
    "    do_four(draw_post)\n",
    "    print(\"|\")\n",
    "    do_four(draw_post)\n",
    "    \n",
    "    \n",
    "    draw_beam()\n",
    "    do_four(draw_post)\n",
    "    draw_beam()\n",
    "\n",
    "make_cell()"
   ]
  },
  {
   "cell_type": "code",
   "execution_count": null,
   "metadata": {},
   "outputs": [],
   "source": []
  },
  {
   "cell_type": "code",
   "execution_count": null,
   "metadata": {},
   "outputs": [],
   "source": []
  }
 ],
 "metadata": {
  "kernelspec": {
   "display_name": "Python [default]",
   "language": "python",
   "name": "python3"
  },
  "language_info": {
   "codemirror_mode": {
    "name": "ipython",
    "version": 3
   },
   "file_extension": ".py",
   "mimetype": "text/x-python",
   "name": "python",
   "nbconvert_exporter": "python",
   "pygments_lexer": "ipython3",
   "version": "3.5.2"
  }
 },
 "nbformat": 4,
 "nbformat_minor": 2
}
