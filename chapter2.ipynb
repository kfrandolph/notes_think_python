{
 "cells": [
  {
   "cell_type": "markdown",
   "metadata": {},
   "source": [
    "# Chapter 2: Variables, Expressions and Statements\n",
    "## Notes"
   ]
  },
  {
   "cell_type": "markdown",
   "metadata": {},
   "source": [
    "## Values and Types\n",
    "- Value: basic unit that a program works with (letter or number)\n",
    "- Types: values can belong to different \"types:\n",
    "    - Int: an integer, numbers without a decimal point\n",
    "    - Str: \"string\" of letters. Identified by quotation marks\n",
    "    - Float: \"floating point\" numbers with a decimal point"
   ]
  },
  {
   "cell_type": "code",
   "execution_count": 2,
   "metadata": {},
   "outputs": [
    {
     "name": "stdout",
     "output_type": "stream",
     "text": [
      "1\n",
      "<class 'int'>\n",
      "Hello\n",
      "<class 'str'>\n",
      "10.7\n",
      "<class 'float'>\n"
     ]
    }
   ],
   "source": [
    "types = [1,\"Hello\",10.7]\n",
    "for x in types:\n",
    "    print(x)\n",
    "    print(type(x))"
   ]
  },
  {
   "cell_type": "markdown",
   "metadata": {},
   "source": [
    "## Variables\n",
    "- Among the most power ful features of programming is the ability to manipulate variables. \n",
    "    - Variable is a name that refers to a value\n",
    "- An **assignment operator** creates new variables and gives them values\n",
    "\n",
    "### Variable Names and Keywords\n",
    "- Try to choose meaningful names\n",
    "- need to begin with a letter (but can contain numbers)\n",
    "- Convention to use lowercase and underscores\n",
    "- Can't name variables things that are keywords (protected names)\n",
    "    - ex: `class, and, def, from, return, try, etc`\n",
    "    \n",
    "## Operators and Operands\n",
    "- **Operators** are special symbols that represent computations like addition and multiplication. \n",
    "- **Operands** are the values the operator is applied to\n",
    "- Typical Operators:\n",
    "    - `+,-,*,/ and **` - perform addition, subtraction, multiplication, division and exponentiation respectively\n",
    "    - Note:`^` is used for XOR in Python which is a bitwise operation (LOOK INTO THIS)\n",
    "    - Note: In Python2 `/` performs floor division which chops off the decimal portion of the result. Python3 will return the proper float. If floor division is desired in Python3 the operator is `//`\n",
    "    \n",
    "## Expressions and Statements\n",
    "- **Expression** is a combination of values, variables and operators. A value by itself is an expression as well as variable\n",
    "- A **Statement** is a unit of code that Python can execute like `print` or `assignment`\n",
    "\n",
    "### String Operations\n",
    "- In general you can't perform mathematical operations on strings even if the strings look like numbers\n",
    "- The `+` operator works with strings -- it performs concatentation (joining strings end to end)\n",
    "- The `*` operator works with strings as well, it performs repetition\n",
    "\n",
    "### Comments\n",
    "- Once programs get larger and more complicated, they get difficult to read and follow\n",
    "- Add notes to your programms using **comments** which start with the `#` symbol\n",
    "- Everything that starts with a `#` is ignored by interpreter and has no effect on the program\n",
    "- Comments are most useful to explain non-obvious features of code or to specify units"
   ]
  },
  {
   "cell_type": "markdown",
   "metadata": {},
   "source": [
    "## Exercises"
   ]
  },
  {
   "cell_type": "markdown",
   "metadata": {},
   "source": [
    "### 2.1 If you type an integer with a leading zero you might an error. Some numbers work but their results are unexpected. Why?\n",
    "- Binary/Hex? but seems like Python3 takes care of this\n",
    "\n",
    "### 2.2 Type the follow statements into Python to see what they do?"
   ]
  },
  {
   "cell_type": "code",
   "execution_count": 10,
   "metadata": {},
   "outputs": [
    {
     "data": {
      "text/plain": [
       "6"
      ]
     },
     "execution_count": 10,
     "metadata": {},
     "output_type": "execute_result"
    }
   ],
   "source": [
    "5\n",
    "x=5\n",
    "x+1"
   ]
  },
  {
   "cell_type": "markdown",
   "metadata": {},
   "source": [
    "### 2.3 Assume we execute some assignments (pg 22). What is result and type:\n",
    "1. `width/2 -> 8.5`, float (in python2 it would be 8 and int b/c floor division)\n",
    "2. `width/2.0 -> 8.5`, float\n",
    "3. `height/3 -> 4`, int\n",
    "4. `1 + 2 * 5 -> 11`, int\n",
    "5. `delimiter * 5 -> \".....\"`, string\n",
    "\n",
    "### 2.4 Use python as a calculator (pg 22)\n",
    "2.4.1 - What is volume of sphere with with radius 5?"
   ]
  },
  {
   "cell_type": "code",
   "execution_count": 13,
   "metadata": {},
   "outputs": [
    {
     "name": "stdout",
     "output_type": "stream",
     "text": [
      "104.71975511965977\n"
     ]
    }
   ],
   "source": [
    "from math import pi\n",
    "volume = (4/3)*pi*(5**2)\n",
    "print(volume)"
   ]
  },
  {
   "cell_type": "markdown",
   "metadata": {},
   "source": [
    "2.4.2 - Suppose the cover price of a book is 24.95 but the bookstore gets a 40% discount. Shipping costs 3 for the first copy and 75 cents for each additional copy. What is the total wholesale cost for 60 copies?"
   ]
  },
  {
   "cell_type": "code",
   "execution_count": 14,
   "metadata": {},
   "outputs": [
    {
     "name": "stdout",
     "output_type": "stream",
     "text": [
      "946.1999999999999\n"
     ]
    }
   ],
   "source": [
    "cover = 24.95\n",
    "discount = .4\n",
    "qty = 60\n",
    "total_wholesale_cost = (cover * (1-discount)) * qty + (3 + .75 * qty) ## discounted cover price + shipping price\n",
    "print(total_wholesale_cost)"
   ]
  },
  {
   "cell_type": "markdown",
   "metadata": {},
   "source": [
    "2.4.3 If I leave my house at 6:52am and run 1 mile at an easy pace (8:15) then I run 3 miles at tempo (7:12) and 1 mile at easy pace again what time do I get home?"
   ]
  },
  {
   "cell_type": "code",
   "execution_count": 28,
   "metadata": {},
   "outputs": [
    {
     "name": "stdout",
     "output_type": "stream",
     "text": [
      "You got home @ ~ 7:30am\n"
     ]
    }
   ],
   "source": [
    "from math import floor\n",
    "easy_pace = 8 + 15/60\n",
    "tempo_pace = 7 + 12/60\n",
    "time_spent = 2 * easy_pace + 3 * tempo_pace\n",
    "time_home_hrs = floor(6 + (52+time_spent)/60)\n",
    "time_home_mins = floor(52+time_spent)%60\n",
    "print(\"You got home @ ~ {}:{}am\".format(time_home_hrs,time_home_mins))"
   ]
  }
 ],
 "metadata": {
  "kernelspec": {
   "display_name": "Python [default]",
   "language": "python",
   "name": "python3"
  },
  "language_info": {
   "codemirror_mode": {
    "name": "ipython",
    "version": 3
   },
   "file_extension": ".py",
   "mimetype": "text/x-python",
   "name": "python",
   "nbconvert_exporter": "python",
   "pygments_lexer": "ipython3",
   "version": "3.5.2"
  }
 },
 "nbformat": 4,
 "nbformat_minor": 2
}
